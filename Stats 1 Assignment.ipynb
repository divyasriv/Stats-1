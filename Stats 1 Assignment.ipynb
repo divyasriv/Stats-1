{
 "cells": [
  {
   "cell_type": "markdown",
   "metadata": {},
   "source": [
    "# You survey households in your area to find the average rent they are paying. Find the standard deviation from the following data:\n",
    "$1550, $1700, $900, $850, $1000, $950."
   ]
  },
  {
   "cell_type": "code",
   "execution_count": 4,
   "metadata": {},
   "outputs": [
    {
     "name": "stdout",
     "output_type": "stream",
     "text": [
      "By custom method :\n",
      "Standard deviation: 335.92591775899376\n",
      "By stats method in library:\n",
      "Standard deviation: 367.9900360969936\n"
     ]
    }
   ],
   "source": [
    "from math import sqrt\n",
    "import statistics as stats\n",
    "def find_mean(rent):\n",
    "    return sum(rent)/len(rent)\n",
    "def find_variance(rent):\n",
    "    variance=0.0\n",
    "    mean=find_mean(rent)\n",
    "    variance = sum((x-mean)**2 for x in rent)/len(rent)-1\n",
    "    return variance\n",
    "def find_sd(rent):\n",
    "    return find_variance(rent)**0.5\n",
    "\n",
    "rent=[1550, 1700,900,850,1000,950]\n",
    "print(\"By custom method :\")\n",
    "print(\"Standard deviation: \"+str(find_sd(rent)))\n",
    "print(\"By stats method in library:\")\n",
    "print(\"Standard deviation: \"+str(stats.stdev(rent)))\n"
   ]
  },
  {
   "cell_type": "markdown",
   "metadata": {},
   "source": [
    "# Find the variance for the following set of data representing trees in California (heights infeet):\n",
    "3, 21, 98, 203, 17, 9"
   ]
  },
  {
   "cell_type": "code",
   "execution_count": 5,
   "metadata": {},
   "outputs": [
    {
     "name": "stdout",
     "output_type": "stream",
     "text": [
      "By custom method :\n",
      "Standard deviation: 112846.22222222223\n",
      "By stats method in library:\n",
      "Standard deviation: 135416.66666666666\n"
     ]
    }
   ],
   "source": [
    "from math import sqrt\n",
    "import statistics as stats\n",
    "def find_mean(height):\n",
    "    return sum(height)/len(height)\n",
    "def find_variance(height):\n",
    "    variance=0.0\n",
    "    mean=find_mean(height)\n",
    "    variance = sum((x-mean)**2 for x in height)/len(height)-1\n",
    "    return variance\n",
    "\n",
    "height=[1550, 1700,900,850,1000,950]\n",
    "print(\"By custom method :\")\n",
    "print(\"Standard deviation: \"+str(find_variance(height)))\n",
    "print(\"By stats method in library:\")\n",
    "print(\"Standard deviation: \"+str(stats.variance(height)))"
   ]
  },
  {
   "cell_type": "markdown",
   "metadata": {},
   "source": [
    "# In a class on 100 students, 80 students passed in all subjects, 10 failed in one subject, 7 failed in two subjects and 3 failed in three subjects. Find the probability distribution of the variable for number of subjects a student from the given class has failed in."
   ]
  },
  {
   "cell_type": "code",
   "execution_count": 1,
   "metadata": {},
   "outputs": [],
   "source": [
    "import numpy as np\n",
    "import pandas as pd\n",
    "import matplotlib.pyplot as plt\n",
    "import scipy.stats as stats"
   ]
  },
  {
   "cell_type": "code",
   "execution_count": 3,
   "metadata": {},
   "outputs": [
    {
     "data": {
      "text/plain": [
       "Text(0, 0.5, 'Prob')"
      ]
     },
     "execution_count": 3,
     "metadata": {},
     "output_type": "execute_result"
    },
    {
     "data": {
      "image/png": "[encoded data removed]",
      "text/plain": [
       "<Figure size 432x288 with 1 Axes>"
      ]
     },
     "metadata": {
      "needs_background": "light"
     },
     "output_type": "display_data"
    }
   ],
   "source": [
    "n=np.arange(100)\n",
    "mean=0\n",
    "normal=stats.norm.pdf(n,mean,10)\n",
    "plt.plot(n,normal)\n",
    "plt.xlabel('Distribution',fontsize=12)\n",
    "plt.ylabel('Prob',fontsize=12)\n"
   ]
  },
  {
   "cell_type": "code",
   "execution_count": null,
   "metadata": {},
   "outputs": [],
   "source": []
  }
 ],
 "metadata": {
  "kernelspec": {
   "display_name": "Python 3",
   "language": "python",
   "name": "python3"
  },
  "language_info": {
   "codemirror_mode": {
    "name": "ipython",
    "version": 3
   },
   "file_extension": ".py",
   "mimetype": "text/x-python",
   "name": "python",
   "nbconvert_exporter": "python",
   "pygments_lexer": "ipython3",
   "version": "3.7.4"
  },
  "toc": {
   "base_numbering": 1,
   "nav_menu": {},
   "number_sections": true,
   "sideBar": true,
   "skip_h1_title": false,
   "title_cell": "Table of Contents",
   "title_sidebar": "Contents",
   "toc_cell": false,
   "toc_position": {},
   "toc_section_display": true,
   "toc_window_display": false
  },
  "varInspector": {
   "cols": {
    "lenName": 16,
    "lenType": 16,
    "lenVar": 40
   },
   "kernels_config": {
    "python": {
     "delete_cmd_postfix": "",
     "delete_cmd_prefix": "del ",
     "library": "var_list.py",
     "varRefreshCmd": "print(var_dic_list())"
    },
    "r": {
     "delete_cmd_postfix": ") ",
     "delete_cmd_prefix": "rm(",
     "library": "var_list.r",
     "varRefreshCmd": "cat(var_dic_list()) "
    }
   },
   "types_to_exclude": [
    "module",
    "function",
    "builtin_function_or_method",
    "instance",
    "_Feature"
   ],
   "window_display": false
  }
 },
 "nbformat": 4,
 "nbformat_minor": 2
}
